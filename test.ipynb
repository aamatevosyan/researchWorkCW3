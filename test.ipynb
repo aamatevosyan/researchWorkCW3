{
 "cells": [
  {
   "cell_type": "code",
   "execution_count": 2,
   "metadata": {
    "collapsed": true
   },
   "outputs": [
    {
     "name": "stdout",
     "output_type": "stream",
     "text": [
      "WARNING:tensorflow:No training configuration found in the save file, so the model was *not* compiled. Compile it manually.\n"
     ]
    }
   ],
   "source": [
    "import os\n",
    "from pathlib import Path\n",
    "\n",
    "import numpy as np\n",
    "from skimage.color import gray2rgb\n",
    "from skimage.io import imread, imsave\n",
    "from skimage.transform import resize\n",
    "from skimage import measure, color, img_as_ubyte\n",
    "from tensorflow.python.keras import models\n",
    "import matplotlib.pyplot as plt\n",
    "import cv2\n",
    "\n",
    "import tensorflow as tf\n",
    "\n",
    "# gpus = tf.config.experimental.list_physical_devices('GPU')\n",
    "# for gpu in gpus:\n",
    "#   tf.config.experimental.set_memory_growth(gpu, True)\n",
    "\n",
    "model_path = 'methods/speechbubbles/0207_e500_std_model_4.h5'\n",
    "model = models.load_model(model_path)\n",
    "\n",
    "TMP = Path(\"tmp\")\n",
    "if not TMP.exists():\n",
    "    TMP.mkdir()"
   ]
  },
  {
   "cell_type": "code",
   "execution_count": 5,
   "outputs": [],
   "source": [
    "def ml_method(img_path: str):\n",
    "    img = imread(img_path)\n",
    "    shape = img.shape\n",
    "    print(shape)\n",
    "    width, height, _ = shape\n",
    "    img = resize(img, (768, 512), anti_aliasing=True, preserve_range=True)\n",
    "    img = np.expand_dims(img, axis=0)\n",
    "    img = img / 255\n",
    "\n",
    "    try:\n",
    "        p = model.predict(img)\n",
    "        tmp_image_path = TMP.joinpath(os.path.basename(img_path) + \".png\")\n",
    "        arr = img_as_ubyte(p[0, :, :, 0])\n",
    "        img = arr\n",
    "        resized = cv2.resize(img, (height, width), interpolation = cv2.INTER_CUBIC)\n",
    "        print(resized.shape)\n",
    "        cv2.imwrite(str(tmp_image_path), resized)\n",
    "\n",
    "        return resized\n",
    "    except ValueError as err:\n",
    "        print(img_path)\n",
    "        print(err)\n",
    "        return []"
   ],
   "metadata": {
    "collapsed": false,
    "pycharm": {
     "name": "#%%\n"
    }
   }
  },
  {
   "cell_type": "code",
   "execution_count": 6,
   "outputs": [
    {
     "name": "stdout",
     "output_type": "stream",
     "text": [
      "(1060, 750, 3)\n",
      "(1060, 750)\n"
     ]
    }
   ],
   "source": [
    "img_path = \"assets/pages/CYB_BUBBLEGOM_T01_028.jpg\"\n",
    "resized = ml_method(img_path)"
   ],
   "metadata": {
    "collapsed": false,
    "pycharm": {
     "name": "#%%\n"
    }
   }
  },
  {
   "cell_type": "code",
   "execution_count": 3,
   "outputs": [
    {
     "name": "stdout",
     "output_type": "stream",
     "text": [
      "(1060, 750, 3)\n"
     ]
    }
   ],
   "source": [
    "img_path = \"tmp/CYB_BUBBLEGOM_T01_005.jpg.png\"\n",
    "img = cv2.imread(img_path)\n",
    "print(img.shape)"
   ],
   "metadata": {
    "collapsed": false,
    "pycharm": {
     "name": "#%%\n"
    }
   }
  },
  {
   "cell_type": "code",
   "execution_count": null,
   "outputs": [],
   "source": [
    "img_path = \"assets/pages/CYB_BUBBLEGOM_T01_028.jpg\""
   ],
   "metadata": {
    "collapsed": false,
    "pycharm": {
     "name": "#%%\n"
    }
   }
  }
 ],
 "metadata": {
  "kernelspec": {
   "display_name": "Python 3",
   "language": "python",
   "name": "python3"
  },
  "language_info": {
   "codemirror_mode": {
    "name": "ipython",
    "version": 2
   },
   "file_extension": ".py",
   "mimetype": "text/x-python",
   "name": "python",
   "nbconvert_exporter": "python",
   "pygments_lexer": "ipython2",
   "version": "2.7.6"
  }
 },
 "nbformat": 4,
 "nbformat_minor": 0
}