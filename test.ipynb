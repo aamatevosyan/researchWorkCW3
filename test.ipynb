{
 "cells": [
  {
   "cell_type": "code",
   "execution_count": 24,
   "outputs": [
    {
     "name": "stdout",
     "output_type": "stream",
     "text": [
      "{'wer': 0.8648648648648649, 'mer': 0.5470085470085471, 'wil': 0.654914004914005, 'wip': 0.3450859950859951, 'hits': 53, 'substitutions': 14, 'deletions': 7, 'insertions': 43}\n"
     ]
    }
   ],
   "source": [
    "import jiwer\n",
    "\n",
    "ground_truth = \"\"\"ALORS DES\n",
    "                PUCEAUX, ENCORE A JOUER A LA\n",
    "                GUERRE ? PAS ETONNANT QUE\n",
    "                VOUS N'AYEZ PAS DE\n",
    "                COPINE !\n",
    "\"\"\"\n",
    "hypothesis = \"\"\"ALOR5 LE5 PULEAUY ENCOIE JOUE? GUEI?RE PA5 ETOMIANT QUE VOU5 NAYEz PAs COPIE AUTI?E CHOSE FAIRE GUE VE PEIRUIE NOTI?E TEMPs nr_ Izl=\"\"\"\n",
    "\n",
    "transformation = jiwer.Compose([\n",
    "    jiwer.ToLowerCase(),\n",
    "    jiwer.RemoveMultipleSpaces(),\n",
    "    jiwer.Strip(),\n",
    "    jiwer.RemoveWhiteSpace(replace_by_space=False),\n",
    "])\n",
    "\n",
    "print(jiwer.compute_measures(\n",
    "    ground_truth,\n",
    "    hypothesis,\n",
    "    truth_transform=transformation,\n",
    "    hypothesis_transform=transformation\n",
    "))"
   ],
   "metadata": {
    "collapsed": false,
    "pycharm": {
     "name": "#%%\n"
    }
   }
  }
 ],
 "metadata": {
  "kernelspec": {
   "display_name": "Python 3",
   "language": "python",
   "name": "python3"
  },
  "language_info": {
   "codemirror_mode": {
    "name": "ipython",
    "version": 2
   },
   "file_extension": ".py",
   "mimetype": "text/x-python",
   "name": "python",
   "nbconvert_exporter": "python",
   "pygments_lexer": "ipython2",
   "version": "2.7.6"
  }
 },
 "nbformat": 4,
 "nbformat_minor": 0
}